{
 "cells": [
  {
   "cell_type": "markdown",
   "metadata": {
    "id": "5x46V16Bj9Pw"
   },
   "source": [
    "**Before using this Colab, please save a copy to your own Google Drive:\n",
    "Click on “File” > “Save a copy in Drive”**\n",
    "\n",
    "# **AI Assisted Literature Review Part II RAG/LLM**\n",
    "# *A. Download Research Papers of interest*\n",
    "# *B. Demo:Pre-process the downloaded file*   \n",
    "# *C. Demo:Query your newly created RAG/LLM*\n",
    "\n",
    "\n",
    "# This Colab notebook processes scientific papers, extracts metadata, creates a searchable vector database, and enables interactive question-answering using the Retrieval-Augmented Generation (RAG) approach with Groq's LLM. You can easily query the system for answers based on the processed documents."
   ]
  },
  {
   "cell_type": "markdown",
   "metadata": {
    "id": "IRdMWdLO5t2j"
   },
   "source": [
    "### **WORKFLOW:**\n",
    "* Install necessary libraries.\n",
    "* Set Groq API Key\n",
    "* Download research paper using [pygetpapers](https://github.com/petermr/pygetpapers)\n",
    "* Parse XML/PDF Files to Markdown and Extract Metadata\n",
    "* Create Vector Database\n",
    "* Execute pipeline for Processing and Retrieval\n",
    "* Query your newly created RAG/LLM"
   ]
  },
  {
   "cell_type": "markdown",
   "metadata": {
    "id": "X_xk4yHyceoU"
   },
   "source": [
    "### **Step 1: Install dependencies**\n",
    "* **pymupdf4llm:** Lightweight PDF processing for LLMs\n",
    "* **langchain:** Framework for developing LLM-powered applications\n",
    "* **chromadb:** Vector store for storing and querying embeddings\n",
    "* **sentence-transformers:** For embedding sentences using transformer models\n",
    "\n"
   ]
  },
  {
   "cell_type": "code",
   "execution_count": null,
   "metadata": {
    "colab": {
     "base_uri": "https://localhost:8080/"
    },
    "id": "k2Wrrkyz25pm",
    "outputId": "33399286-8ed5-4ed3-c525-5df0bcfd06c4"
   },
   "outputs": [
    {
     "name": "stdout",
     "output_type": "stream",
     "text": [
      "Requirement already satisfied: pygetpapers in /usr/local/lib/python3.11/dist-packages (1.2.5)\n",
      "Requirement already satisfied: requests in /usr/local/lib/python3.11/dist-packages (from pygetpapers) (2.32.3)\n",
      "Requirement already satisfied: pandas in /usr/local/lib/python3.11/dist-packages (from pygetpapers) (2.2.2)\n",
      "Requirement already satisfied: lxml in /usr/local/lib/python3.11/dist-packages (from pygetpapers) (5.4.0)\n",
      "Requirement already satisfied: xmltodict in /usr/local/lib/python3.11/dist-packages (from pygetpapers) (0.14.2)\n",
      "Requirement already satisfied: configargparse in /usr/local/lib/python3.11/dist-packages (from pygetpapers) (1.7.1)\n",
      "Requirement already satisfied: habanero in /usr/local/lib/python3.11/dist-packages (from pygetpapers) (2.3.0)\n",
      "Requirement already satisfied: arxiv in /usr/local/lib/python3.11/dist-packages (from pygetpapers) (2.2.0)\n",
      "Requirement already satisfied: dict2xml in /usr/local/lib/python3.11/dist-packages (from pygetpapers) (1.7.7)\n",
      "Requirement already satisfied: tqdm in /usr/local/lib/python3.11/dist-packages (from pygetpapers) (4.67.1)\n",
      "Requirement already satisfied: coloredlogs in /usr/local/lib/python3.11/dist-packages (from pygetpapers) (15.0.1)\n",
      "Requirement already satisfied: feedparser~=6.0.10 in /usr/local/lib/python3.11/dist-packages (from arxiv->pygetpapers) (6.0.11)\n",
      "Requirement already satisfied: charset-normalizer<4,>=2 in /usr/local/lib/python3.11/dist-packages (from requests->pygetpapers) (3.4.2)\n",
      "Requirement already satisfied: idna<4,>=2.5 in /usr/local/lib/python3.11/dist-packages (from requests->pygetpapers) (3.10)\n",
      "Requirement already satisfied: urllib3<3,>=1.21.1 in /usr/local/lib/python3.11/dist-packages (from requests->pygetpapers) (2.5.0)\n",
      "Requirement already satisfied: certifi>=2017.4.17 in /usr/local/lib/python3.11/dist-packages (from requests->pygetpapers) (2025.7.14)\n",
      "Requirement already satisfied: humanfriendly>=9.1 in /usr/local/lib/python3.11/dist-packages (from coloredlogs->pygetpapers) (10.0)\n",
      "Requirement already satisfied: httpx>=0.27.2 in /usr/local/lib/python3.11/dist-packages (from habanero->pygetpapers) (0.28.1)\n",
      "Requirement already satisfied: packaging>=24.1 in /usr/local/lib/python3.11/dist-packages (from habanero->pygetpapers) (25.0)\n",
      "Requirement already satisfied: pyyaml>=6.0.2 in /usr/local/lib/python3.11/dist-packages (from habanero->pygetpapers) (6.0.2)\n",
      "Requirement already satisfied: numpy>=1.23.2 in /usr/local/lib/python3.11/dist-packages (from pandas->pygetpapers) (2.0.2)\n",
      "Requirement already satisfied: python-dateutil>=2.8.2 in /usr/local/lib/python3.11/dist-packages (from pandas->pygetpapers) (2.9.0.post0)\n",
      "Requirement already satisfied: pytz>=2020.1 in /usr/local/lib/python3.11/dist-packages (from pandas->pygetpapers) (2025.2)\n",
      "Requirement already satisfied: tzdata>=2022.7 in /usr/local/lib/python3.11/dist-packages (from pandas->pygetpapers) (2025.2)\n",
      "Requirement already satisfied: sgmllib3k in /usr/local/lib/python3.11/dist-packages (from feedparser~=6.0.10->arxiv->pygetpapers) (1.0.0)\n",
      "Requirement already satisfied: anyio in /usr/local/lib/python3.11/dist-packages (from httpx>=0.27.2->habanero->pygetpapers) (4.9.0)\n",
      "Requirement already satisfied: httpcore==1.* in /usr/local/lib/python3.11/dist-packages (from httpx>=0.27.2->habanero->pygetpapers) (1.0.9)\n",
      "Requirement already satisfied: h11>=0.16 in /usr/local/lib/python3.11/dist-packages (from httpcore==1.*->httpx>=0.27.2->habanero->pygetpapers) (0.16.0)\n",
      "Requirement already satisfied: six>=1.5 in /usr/local/lib/python3.11/dist-packages (from python-dateutil>=2.8.2->pandas->pygetpapers) (1.17.0)\n",
      "Requirement already satisfied: sniffio>=1.1 in /usr/local/lib/python3.11/dist-packages (from anyio->httpx>=0.27.2->habanero->pygetpapers) (1.3.1)\n",
      "Requirement already satisfied: typing_extensions>=4.5 in /usr/local/lib/python3.11/dist-packages (from anyio->httpx>=0.27.2->habanero->pygetpapers) (4.14.1)\n",
      "Requirement already satisfied: lxml in /usr/local/lib/python3.11/dist-packages (5.4.0)\n",
      "Requirement already satisfied: langchain in /usr/local/lib/python3.11/dist-packages (0.3.26)\n",
      "Requirement already satisfied: chromadb in /usr/local/lib/python3.11/dist-packages (1.0.15)\n",
      "Requirement already satisfied: sentence-transformers in /usr/local/lib/python3.11/dist-packages (4.1.0)\n",
      "Requirement already satisfied: langchain-core<1.0.0,>=0.3.66 in /usr/local/lib/python3.11/dist-packages (from langchain) (0.3.70)\n",
      "Requirement already satisfied: langchain-text-splitters<1.0.0,>=0.3.8 in /usr/local/lib/python3.11/dist-packages (from langchain) (0.3.8)\n",
      "Requirement already satisfied: langsmith>=0.1.17 in /usr/local/lib/python3.11/dist-packages (from langchain) (0.4.8)\n",
      "Requirement already satisfied: pydantic<3.0.0,>=2.7.4 in /usr/local/lib/python3.11/dist-packages (from langchain) (2.11.7)\n",
      "Requirement already satisfied: SQLAlchemy<3,>=1.4 in /usr/local/lib/python3.11/dist-packages (from langchain) (2.0.41)\n",
      "Requirement already satisfied: requests<3,>=2 in /usr/local/lib/python3.11/dist-packages (from langchain) (2.32.3)\n",
      "Requirement already satisfied: PyYAML>=5.3 in /usr/local/lib/python3.11/dist-packages (from langchain) (6.0.2)\n",
      "Requirement already satisfied: build>=1.0.3 in /usr/local/lib/python3.11/dist-packages (from chromadb) (1.2.2.post1)\n",
      "Requirement already satisfied: pybase64>=1.4.1 in /usr/local/lib/python3.11/dist-packages (from chromadb) (1.4.1)\n",
      "Requirement already satisfied: uvicorn>=0.18.3 in /usr/local/lib/python3.11/dist-packages (from uvicorn[standard]>=0.18.3->chromadb) (0.35.0)\n",
      "Requirement already satisfied: numpy>=1.22.5 in /usr/local/lib/python3.11/dist-packages (from chromadb) (2.0.2)\n",
      "Requirement already satisfied: posthog<6.0.0,>=2.4.0 in /usr/local/lib/python3.11/dist-packages (from chromadb) (5.4.0)\n",
      "Requirement already satisfied: typing-extensions>=4.5.0 in /usr/local/lib/python3.11/dist-packages (from chromadb) (4.14.1)\n",
      "Requirement already satisfied: onnxruntime>=1.14.1 in /usr/local/lib/python3.11/dist-packages (from chromadb) (1.22.1)\n",
      "Requirement already satisfied: opentelemetry-api>=1.2.0 in /usr/local/lib/python3.11/dist-packages (from chromadb) (1.35.0)\n",
      "Requirement already satisfied: opentelemetry-exporter-otlp-proto-grpc>=1.2.0 in /usr/local/lib/python3.11/dist-packages (from chromadb) (1.35.0)\n",
      "Requirement already satisfied: opentelemetry-sdk>=1.2.0 in /usr/local/lib/python3.11/dist-packages (from chromadb) (1.35.0)\n",
      "Requirement already satisfied: tokenizers>=0.13.2 in /usr/local/lib/python3.11/dist-packages (from chromadb) (0.21.2)\n",
      "Requirement already satisfied: pypika>=0.48.9 in /usr/local/lib/python3.11/dist-packages (from chromadb) (0.48.9)\n",
      "Requirement already satisfied: tqdm>=4.65.0 in /usr/local/lib/python3.11/dist-packages (from chromadb) (4.67.1)\n",
      "Requirement already satisfied: overrides>=7.3.1 in /usr/local/lib/python3.11/dist-packages (from chromadb) (7.7.0)\n",
      "Requirement already satisfied: importlib-resources in /usr/local/lib/python3.11/dist-packages (from chromadb) (6.5.2)\n",
      "Requirement already satisfied: grpcio>=1.58.0 in /usr/local/lib/python3.11/dist-packages (from chromadb) (1.73.1)\n",
      "Requirement already satisfied: bcrypt>=4.0.1 in /usr/local/lib/python3.11/dist-packages (from chromadb) (4.3.0)\n",
      "Requirement already satisfied: typer>=0.9.0 in /usr/local/lib/python3.11/dist-packages (from chromadb) (0.16.0)\n",
      "Requirement already satisfied: kubernetes>=28.1.0 in /usr/local/lib/python3.11/dist-packages (from chromadb) (33.1.0)\n",
      "Requirement already satisfied: tenacity>=8.2.3 in /usr/local/lib/python3.11/dist-packages (from chromadb) (8.5.0)\n",
      "Requirement already satisfied: mmh3>=4.0.1 in /usr/local/lib/python3.11/dist-packages (from chromadb) (5.1.0)\n",
      "Requirement already satisfied: orjson>=3.9.12 in /usr/local/lib/python3.11/dist-packages (from chromadb) (3.11.0)\n",
      "Requirement already satisfied: httpx>=0.27.0 in /usr/local/lib/python3.11/dist-packages (from chromadb) (0.28.1)\n",
      "Requirement already satisfied: rich>=10.11.0 in /usr/local/lib/python3.11/dist-packages (from chromadb) (13.9.4)\n",
      "Requirement already satisfied: jsonschema>=4.19.0 in /usr/local/lib/python3.11/dist-packages (from chromadb) (4.25.0)\n",
      "Requirement already satisfied: transformers<5.0.0,>=4.41.0 in /usr/local/lib/python3.11/dist-packages (from sentence-transformers) (4.53.2)\n",
      "Requirement already satisfied: torch>=1.11.0 in /usr/local/lib/python3.11/dist-packages (from sentence-transformers) (2.6.0+cu124)\n",
      "Requirement already satisfied: scikit-learn in /usr/local/lib/python3.11/dist-packages (from sentence-transformers) (1.6.1)\n",
      "Requirement already satisfied: scipy in /usr/local/lib/python3.11/dist-packages (from sentence-transformers) (1.16.0)\n",
      "Requirement already satisfied: huggingface-hub>=0.20.0 in /usr/local/lib/python3.11/dist-packages (from sentence-transformers) (0.33.4)\n",
      "Requirement already satisfied: Pillow in /usr/local/lib/python3.11/dist-packages (from sentence-transformers) (11.3.0)\n",
      "Requirement already satisfied: packaging>=19.1 in /usr/local/lib/python3.11/dist-packages (from build>=1.0.3->chromadb) (25.0)\n",
      "Requirement already satisfied: pyproject_hooks in /usr/local/lib/python3.11/dist-packages (from build>=1.0.3->chromadb) (1.2.0)\n",
      "Requirement already satisfied: anyio in /usr/local/lib/python3.11/dist-packages (from httpx>=0.27.0->chromadb) (4.9.0)\n",
      "Requirement already satisfied: certifi in /usr/local/lib/python3.11/dist-packages (from httpx>=0.27.0->chromadb) (2025.7.14)\n",
      "Requirement already satisfied: httpcore==1.* in /usr/local/lib/python3.11/dist-packages (from httpx>=0.27.0->chromadb) (1.0.9)\n",
      "Requirement already satisfied: idna in /usr/local/lib/python3.11/dist-packages (from httpx>=0.27.0->chromadb) (3.10)\n",
      "Requirement already satisfied: h11>=0.16 in /usr/local/lib/python3.11/dist-packages (from httpcore==1.*->httpx>=0.27.0->chromadb) (0.16.0)\n",
      "Requirement already satisfied: filelock in /usr/local/lib/python3.11/dist-packages (from huggingface-hub>=0.20.0->sentence-transformers) (3.18.0)\n",
      "Requirement already satisfied: fsspec>=2023.5.0 in /usr/local/lib/python3.11/dist-packages (from huggingface-hub>=0.20.0->sentence-transformers) (2025.7.0)\n",
      "Requirement already satisfied: hf-xet<2.0.0,>=1.1.2 in /usr/local/lib/python3.11/dist-packages (from huggingface-hub>=0.20.0->sentence-transformers) (1.1.5)\n",
      "Requirement already satisfied: attrs>=22.2.0 in /usr/local/lib/python3.11/dist-packages (from jsonschema>=4.19.0->chromadb) (25.3.0)\n",
      "Requirement already satisfied: jsonschema-specifications>=2023.03.6 in /usr/local/lib/python3.11/dist-packages (from jsonschema>=4.19.0->chromadb) (2025.4.1)\n",
      "Requirement already satisfied: referencing>=0.28.4 in /usr/local/lib/python3.11/dist-packages (from jsonschema>=4.19.0->chromadb) (0.36.2)\n",
      "Requirement already satisfied: rpds-py>=0.7.1 in /usr/local/lib/python3.11/dist-packages (from jsonschema>=4.19.0->chromadb) (0.26.0)\n",
      "Requirement already satisfied: six>=1.9.0 in /usr/local/lib/python3.11/dist-packages (from kubernetes>=28.1.0->chromadb) (1.17.0)\n",
      "Requirement already satisfied: python-dateutil>=2.5.3 in /usr/local/lib/python3.11/dist-packages (from kubernetes>=28.1.0->chromadb) (2.9.0.post0)\n",
      "Requirement already satisfied: google-auth>=1.0.1 in /usr/local/lib/python3.11/dist-packages (from kubernetes>=28.1.0->chromadb) (2.38.0)\n",
      "Requirement already satisfied: websocket-client!=0.40.0,!=0.41.*,!=0.42.*,>=0.32.0 in /usr/local/lib/python3.11/dist-packages (from kubernetes>=28.1.0->chromadb) (1.8.0)\n",
      "Requirement already satisfied: requests-oauthlib in /usr/local/lib/python3.11/dist-packages (from kubernetes>=28.1.0->chromadb) (2.0.0)\n",
      "Requirement already satisfied: oauthlib>=3.2.2 in /usr/local/lib/python3.11/dist-packages (from kubernetes>=28.1.0->chromadb) (3.3.1)\n",
      "Requirement already satisfied: urllib3>=1.24.2 in /usr/local/lib/python3.11/dist-packages (from kubernetes>=28.1.0->chromadb) (2.5.0)\n",
      "Requirement already satisfied: durationpy>=0.7 in /usr/local/lib/python3.11/dist-packages (from kubernetes>=28.1.0->chromadb) (0.10)\n",
      "Requirement already satisfied: jsonpatch<2.0,>=1.33 in /usr/local/lib/python3.11/dist-packages (from langchain-core<1.0.0,>=0.3.66->langchain) (1.33)\n",
      "Requirement already satisfied: requests-toolbelt<2.0.0,>=1.0.0 in /usr/local/lib/python3.11/dist-packages (from langsmith>=0.1.17->langchain) (1.0.0)\n",
      "Requirement already satisfied: zstandard<0.24.0,>=0.23.0 in /usr/local/lib/python3.11/dist-packages (from langsmith>=0.1.17->langchain) (0.23.0)\n",
      "Requirement already satisfied: coloredlogs in /usr/local/lib/python3.11/dist-packages (from onnxruntime>=1.14.1->chromadb) (15.0.1)\n",
      "Requirement already satisfied: flatbuffers in /usr/local/lib/python3.11/dist-packages (from onnxruntime>=1.14.1->chromadb) (25.2.10)\n",
      "Requirement already satisfied: protobuf in /usr/local/lib/python3.11/dist-packages (from onnxruntime>=1.14.1->chromadb) (5.29.5)\n",
      "Requirement already satisfied: sympy in /usr/local/lib/python3.11/dist-packages (from onnxruntime>=1.14.1->chromadb) (1.13.1)\n",
      "Requirement already satisfied: importlib-metadata<8.8.0,>=6.0 in /usr/local/lib/python3.11/dist-packages (from opentelemetry-api>=1.2.0->chromadb) (8.7.0)\n",
      "Requirement already satisfied: googleapis-common-protos~=1.57 in /usr/local/lib/python3.11/dist-packages (from opentelemetry-exporter-otlp-proto-grpc>=1.2.0->chromadb) (1.70.0)\n",
      "Requirement already satisfied: opentelemetry-exporter-otlp-proto-common==1.35.0 in /usr/local/lib/python3.11/dist-packages (from opentelemetry-exporter-otlp-proto-grpc>=1.2.0->chromadb) (1.35.0)\n",
      "Requirement already satisfied: opentelemetry-proto==1.35.0 in /usr/local/lib/python3.11/dist-packages (from opentelemetry-exporter-otlp-proto-grpc>=1.2.0->chromadb) (1.35.0)\n",
      "Requirement already satisfied: opentelemetry-semantic-conventions==0.56b0 in /usr/local/lib/python3.11/dist-packages (from opentelemetry-sdk>=1.2.0->chromadb) (0.56b0)\n",
      "Requirement already satisfied: backoff>=1.10.0 in /usr/local/lib/python3.11/dist-packages (from posthog<6.0.0,>=2.4.0->chromadb) (2.2.1)\n",
      "Requirement already satisfied: distro>=1.5.0 in /usr/local/lib/python3.11/dist-packages (from posthog<6.0.0,>=2.4.0->chromadb) (1.9.0)\n",
      "Requirement already satisfied: annotated-types>=0.6.0 in /usr/local/lib/python3.11/dist-packages (from pydantic<3.0.0,>=2.7.4->langchain) (0.7.0)\n",
      "Requirement already satisfied: pydantic-core==2.33.2 in /usr/local/lib/python3.11/dist-packages (from pydantic<3.0.0,>=2.7.4->langchain) (2.33.2)\n",
      "Requirement already satisfied: typing-inspection>=0.4.0 in /usr/local/lib/python3.11/dist-packages (from pydantic<3.0.0,>=2.7.4->langchain) (0.4.1)\n",
      "Requirement already satisfied: charset-normalizer<4,>=2 in /usr/local/lib/python3.11/dist-packages (from requests<3,>=2->langchain) (3.4.2)\n",
      "Requirement already satisfied: markdown-it-py>=2.2.0 in /usr/local/lib/python3.11/dist-packages (from rich>=10.11.0->chromadb) (3.0.0)\n",
      "Requirement already satisfied: pygments<3.0.0,>=2.13.0 in /usr/local/lib/python3.11/dist-packages (from rich>=10.11.0->chromadb) (2.19.2)\n",
      "Requirement already satisfied: greenlet>=1 in /usr/local/lib/python3.11/dist-packages (from SQLAlchemy<3,>=1.4->langchain) (3.2.3)\n",
      "Requirement already satisfied: networkx in /usr/local/lib/python3.11/dist-packages (from torch>=1.11.0->sentence-transformers) (3.5)\n",
      "Requirement already satisfied: jinja2 in /usr/local/lib/python3.11/dist-packages (from torch>=1.11.0->sentence-transformers) (3.1.6)\n",
      "Requirement already satisfied: nvidia-cuda-nvrtc-cu12==12.4.127 in /usr/local/lib/python3.11/dist-packages (from torch>=1.11.0->sentence-transformers) (12.4.127)\n",
      "Requirement already satisfied: nvidia-cuda-runtime-cu12==12.4.127 in /usr/local/lib/python3.11/dist-packages (from torch>=1.11.0->sentence-transformers) (12.4.127)\n",
      "Requirement already satisfied: nvidia-cuda-cupti-cu12==12.4.127 in /usr/local/lib/python3.11/dist-packages (from torch>=1.11.0->sentence-transformers) (12.4.127)\n",
      "Requirement already satisfied: nvidia-cudnn-cu12==9.1.0.70 in /usr/local/lib/python3.11/dist-packages (from torch>=1.11.0->sentence-transformers) (9.1.0.70)\n",
      "Requirement already satisfied: nvidia-cublas-cu12==12.4.5.8 in /usr/local/lib/python3.11/dist-packages (from torch>=1.11.0->sentence-transformers) (12.4.5.8)\n",
      "Requirement already satisfied: nvidia-cufft-cu12==11.2.1.3 in /usr/local/lib/python3.11/dist-packages (from torch>=1.11.0->sentence-transformers) (11.2.1.3)\n",
      "Requirement already satisfied: nvidia-curand-cu12==10.3.5.147 in /usr/local/lib/python3.11/dist-packages (from torch>=1.11.0->sentence-transformers) (10.3.5.147)\n",
      "Requirement already satisfied: nvidia-cusolver-cu12==11.6.1.9 in /usr/local/lib/python3.11/dist-packages (from torch>=1.11.0->sentence-transformers) (11.6.1.9)\n",
      "Requirement already satisfied: nvidia-cusparse-cu12==12.3.1.170 in /usr/local/lib/python3.11/dist-packages (from torch>=1.11.0->sentence-transformers) (12.3.1.170)\n",
      "Requirement already satisfied: nvidia-cusparselt-cu12==0.6.2 in /usr/local/lib/python3.11/dist-packages (from torch>=1.11.0->sentence-transformers) (0.6.2)\n",
      "Requirement already satisfied: nvidia-nccl-cu12==2.21.5 in /usr/local/lib/python3.11/dist-packages (from torch>=1.11.0->sentence-transformers) (2.21.5)\n",
      "Requirement already satisfied: nvidia-nvtx-cu12==12.4.127 in /usr/local/lib/python3.11/dist-packages (from torch>=1.11.0->sentence-transformers) (12.4.127)\n",
      "Requirement already satisfied: nvidia-nvjitlink-cu12==12.4.127 in /usr/local/lib/python3.11/dist-packages (from torch>=1.11.0->sentence-transformers) (12.4.127)\n",
      "Requirement already satisfied: triton==3.2.0 in /usr/local/lib/python3.11/dist-packages (from torch>=1.11.0->sentence-transformers) (3.2.0)\n",
      "Requirement already satisfied: mpmath<1.4,>=1.1.0 in /usr/local/lib/python3.11/dist-packages (from sympy->onnxruntime>=1.14.1->chromadb) (1.3.0)\n",
      "Requirement already satisfied: regex!=2019.12.17 in /usr/local/lib/python3.11/dist-packages (from transformers<5.0.0,>=4.41.0->sentence-transformers) (2024.11.6)\n",
      "Requirement already satisfied: safetensors>=0.4.3 in /usr/local/lib/python3.11/dist-packages (from transformers<5.0.0,>=4.41.0->sentence-transformers) (0.5.3)\n",
      "Requirement already satisfied: click>=8.0.0 in /usr/local/lib/python3.11/dist-packages (from typer>=0.9.0->chromadb) (8.2.1)\n",
      "Requirement already satisfied: shellingham>=1.3.0 in /usr/local/lib/python3.11/dist-packages (from typer>=0.9.0->chromadb) (1.5.4)\n",
      "Requirement already satisfied: httptools>=0.6.3 in /usr/local/lib/python3.11/dist-packages (from uvicorn[standard]>=0.18.3->chromadb) (0.6.4)\n",
      "Requirement already satisfied: python-dotenv>=0.13 in /usr/local/lib/python3.11/dist-packages (from uvicorn[standard]>=0.18.3->chromadb) (1.1.1)\n",
      "Requirement already satisfied: uvloop>=0.15.1 in /usr/local/lib/python3.11/dist-packages (from uvicorn[standard]>=0.18.3->chromadb) (0.21.0)\n",
      "Requirement already satisfied: watchfiles>=0.13 in /usr/local/lib/python3.11/dist-packages (from uvicorn[standard]>=0.18.3->chromadb) (1.1.0)\n",
      "Requirement already satisfied: websockets>=10.4 in /usr/local/lib/python3.11/dist-packages (from uvicorn[standard]>=0.18.3->chromadb) (15.0.1)\n",
      "Requirement already satisfied: joblib>=1.2.0 in /usr/local/lib/python3.11/dist-packages (from scikit-learn->sentence-transformers) (1.5.1)\n",
      "Requirement already satisfied: threadpoolctl>=3.1.0 in /usr/local/lib/python3.11/dist-packages (from scikit-learn->sentence-transformers) (3.6.0)\n",
      "Requirement already satisfied: cachetools<6.0,>=2.0.0 in /usr/local/lib/python3.11/dist-packages (from google-auth>=1.0.1->kubernetes>=28.1.0->chromadb) (5.5.2)\n",
      "Requirement already satisfied: pyasn1-modules>=0.2.1 in /usr/local/lib/python3.11/dist-packages (from google-auth>=1.0.1->kubernetes>=28.1.0->chromadb) (0.4.2)\n",
      "Requirement already satisfied: rsa<5,>=3.1.4 in /usr/local/lib/python3.11/dist-packages (from google-auth>=1.0.1->kubernetes>=28.1.0->chromadb) (4.9.1)\n",
      "Requirement already satisfied: zipp>=3.20 in /usr/local/lib/python3.11/dist-packages (from importlib-metadata<8.8.0,>=6.0->opentelemetry-api>=1.2.0->chromadb) (3.23.0)\n",
      "Requirement already satisfied: jsonpointer>=1.9 in /usr/local/lib/python3.11/dist-packages (from jsonpatch<2.0,>=1.33->langchain-core<1.0.0,>=0.3.66->langchain) (3.0.0)\n",
      "Requirement already satisfied: mdurl~=0.1 in /usr/local/lib/python3.11/dist-packages (from markdown-it-py>=2.2.0->rich>=10.11.0->chromadb) (0.1.2)\n",
      "Requirement already satisfied: sniffio>=1.1 in /usr/local/lib/python3.11/dist-packages (from anyio->httpx>=0.27.0->chromadb) (1.3.1)\n",
      "Requirement already satisfied: humanfriendly>=9.1 in /usr/local/lib/python3.11/dist-packages (from coloredlogs->onnxruntime>=1.14.1->chromadb) (10.0)\n",
      "Requirement already satisfied: MarkupSafe>=2.0 in /usr/local/lib/python3.11/dist-packages (from jinja2->torch>=1.11.0->sentence-transformers) (3.0.2)\n",
      "Requirement already satisfied: pyasn1<0.7.0,>=0.6.1 in /usr/local/lib/python3.11/dist-packages (from pyasn1-modules>=0.2.1->google-auth>=1.0.1->kubernetes>=28.1.0->chromadb) (0.6.1)\n",
      "Requirement already satisfied: langchain-huggingface in /usr/local/lib/python3.11/dist-packages (0.3.1)\n",
      "Requirement already satisfied: langchain-core<1.0.0,>=0.3.70 in /usr/local/lib/python3.11/dist-packages (from langchain-huggingface) (0.3.70)\n",
      "Requirement already satisfied: tokenizers>=0.19.1 in /usr/local/lib/python3.11/dist-packages (from langchain-huggingface) (0.21.2)\n",
      "Requirement already satisfied: huggingface-hub>=0.33.4 in /usr/local/lib/python3.11/dist-packages (from langchain-huggingface) (0.33.4)\n",
      "Requirement already satisfied: filelock in /usr/local/lib/python3.11/dist-packages (from huggingface-hub>=0.33.4->langchain-huggingface) (3.18.0)\n",
      "Requirement already satisfied: fsspec>=2023.5.0 in /usr/local/lib/python3.11/dist-packages (from huggingface-hub>=0.33.4->langchain-huggingface) (2025.7.0)\n",
      "Requirement already satisfied: packaging>=20.9 in /usr/local/lib/python3.11/dist-packages (from huggingface-hub>=0.33.4->langchain-huggingface) (25.0)\n",
      "Requirement already satisfied: pyyaml>=5.1 in /usr/local/lib/python3.11/dist-packages (from huggingface-hub>=0.33.4->langchain-huggingface) (6.0.2)\n",
      "Requirement already satisfied: requests in /usr/local/lib/python3.11/dist-packages (from huggingface-hub>=0.33.4->langchain-huggingface) (2.32.3)\n",
      "Requirement already satisfied: tqdm>=4.42.1 in /usr/local/lib/python3.11/dist-packages (from huggingface-hub>=0.33.4->langchain-huggingface) (4.67.1)\n",
      "Requirement already satisfied: typing-extensions>=3.7.4.3 in /usr/local/lib/python3.11/dist-packages (from huggingface-hub>=0.33.4->langchain-huggingface) (4.14.1)\n",
      "Requirement already satisfied: hf-xet<2.0.0,>=1.1.2 in /usr/local/lib/python3.11/dist-packages (from huggingface-hub>=0.33.4->langchain-huggingface) (1.1.5)\n",
      "Requirement already satisfied: langsmith>=0.3.45 in /usr/local/lib/python3.11/dist-packages (from langchain-core<1.0.0,>=0.3.70->langchain-huggingface) (0.4.8)\n",
      "Requirement already satisfied: tenacity!=8.4.0,<10.0.0,>=8.1.0 in /usr/local/lib/python3.11/dist-packages (from langchain-core<1.0.0,>=0.3.70->langchain-huggingface) (8.5.0)\n",
      "Requirement already satisfied: jsonpatch<2.0,>=1.33 in /usr/local/lib/python3.11/dist-packages (from langchain-core<1.0.0,>=0.3.70->langchain-huggingface) (1.33)\n",
      "Requirement already satisfied: pydantic>=2.7.4 in /usr/local/lib/python3.11/dist-packages (from langchain-core<1.0.0,>=0.3.70->langchain-huggingface) (2.11.7)\n",
      "Requirement already satisfied: jsonpointer>=1.9 in /usr/local/lib/python3.11/dist-packages (from jsonpatch<2.0,>=1.33->langchain-core<1.0.0,>=0.3.70->langchain-huggingface) (3.0.0)\n",
      "Requirement already satisfied: httpx<1,>=0.23.0 in /usr/local/lib/python3.11/dist-packages (from langsmith>=0.3.45->langchain-core<1.0.0,>=0.3.70->langchain-huggingface) (0.28.1)\n",
      "Requirement already satisfied: orjson<4.0.0,>=3.9.14 in /usr/local/lib/python3.11/dist-packages (from langsmith>=0.3.45->langchain-core<1.0.0,>=0.3.70->langchain-huggingface) (3.11.0)\n",
      "Requirement already satisfied: requests-toolbelt<2.0.0,>=1.0.0 in /usr/local/lib/python3.11/dist-packages (from langsmith>=0.3.45->langchain-core<1.0.0,>=0.3.70->langchain-huggingface) (1.0.0)\n",
      "Requirement already satisfied: zstandard<0.24.0,>=0.23.0 in /usr/local/lib/python3.11/dist-packages (from langsmith>=0.3.45->langchain-core<1.0.0,>=0.3.70->langchain-huggingface) (0.23.0)\n",
      "Requirement already satisfied: annotated-types>=0.6.0 in /usr/local/lib/python3.11/dist-packages (from pydantic>=2.7.4->langchain-core<1.0.0,>=0.3.70->langchain-huggingface) (0.7.0)\n",
      "Requirement already satisfied: pydantic-core==2.33.2 in /usr/local/lib/python3.11/dist-packages (from pydantic>=2.7.4->langchain-core<1.0.0,>=0.3.70->langchain-huggingface) (2.33.2)\n",
      "Requirement already satisfied: typing-inspection>=0.4.0 in /usr/local/lib/python3.11/dist-packages (from pydantic>=2.7.4->langchain-core<1.0.0,>=0.3.70->langchain-huggingface) (0.4.1)\n",
      "Requirement already satisfied: charset-normalizer<4,>=2 in /usr/local/lib/python3.11/dist-packages (from requests->huggingface-hub>=0.33.4->langchain-huggingface) (3.4.2)\n",
      "Requirement already satisfied: idna<4,>=2.5 in /usr/local/lib/python3.11/dist-packages (from requests->huggingface-hub>=0.33.4->langchain-huggingface) (3.10)\n",
      "Requirement already satisfied: urllib3<3,>=1.21.1 in /usr/local/lib/python3.11/dist-packages (from requests->huggingface-hub>=0.33.4->langchain-huggingface) (2.5.0)\n",
      "Requirement already satisfied: certifi>=2017.4.17 in /usr/local/lib/python3.11/dist-packages (from requests->huggingface-hub>=0.33.4->langchain-huggingface) (2025.7.14)\n",
      "Requirement already satisfied: anyio in /usr/local/lib/python3.11/dist-packages (from httpx<1,>=0.23.0->langsmith>=0.3.45->langchain-core<1.0.0,>=0.3.70->langchain-huggingface) (4.9.0)\n",
      "Requirement already satisfied: httpcore==1.* in /usr/local/lib/python3.11/dist-packages (from httpx<1,>=0.23.0->langsmith>=0.3.45->langchain-core<1.0.0,>=0.3.70->langchain-huggingface) (1.0.9)\n",
      "Requirement already satisfied: h11>=0.16 in /usr/local/lib/python3.11/dist-packages (from httpcore==1.*->httpx<1,>=0.23.0->langsmith>=0.3.45->langchain-core<1.0.0,>=0.3.70->langchain-huggingface) (0.16.0)\n",
      "Requirement already satisfied: sniffio>=1.1 in /usr/local/lib/python3.11/dist-packages (from anyio->httpx<1,>=0.23.0->langsmith>=0.3.45->langchain-core<1.0.0,>=0.3.70->langchain-huggingface) (1.3.1)\n",
      "Requirement already satisfied: langchain-community in /usr/local/lib/python3.11/dist-packages (0.3.27)\n",
      "Requirement already satisfied: langchain-groq in /usr/local/lib/python3.11/dist-packages (0.3.6)\n",
      "Requirement already satisfied: langchain-core<1.0.0,>=0.3.66 in /usr/local/lib/python3.11/dist-packages (from langchain-community) (0.3.70)\n",
      "Requirement already satisfied: langchain<1.0.0,>=0.3.26 in /usr/local/lib/python3.11/dist-packages (from langchain-community) (0.3.26)\n",
      "Requirement already satisfied: SQLAlchemy<3,>=1.4 in /usr/local/lib/python3.11/dist-packages (from langchain-community) (2.0.41)\n",
      "Requirement already satisfied: requests<3,>=2 in /usr/local/lib/python3.11/dist-packages (from langchain-community) (2.32.3)\n",
      "Requirement already satisfied: PyYAML>=5.3 in /usr/local/lib/python3.11/dist-packages (from langchain-community) (6.0.2)\n",
      "Requirement already satisfied: aiohttp<4.0.0,>=3.8.3 in /usr/local/lib/python3.11/dist-packages (from langchain-community) (3.11.15)\n",
      "Requirement already satisfied: tenacity!=8.4.0,<10,>=8.1.0 in /usr/local/lib/python3.11/dist-packages (from langchain-community) (8.5.0)\n",
      "Requirement already satisfied: dataclasses-json<0.7,>=0.5.7 in /usr/local/lib/python3.11/dist-packages (from langchain-community) (0.6.7)\n",
      "Requirement already satisfied: pydantic-settings<3.0.0,>=2.4.0 in /usr/local/lib/python3.11/dist-packages (from langchain-community) (2.10.1)\n",
      "Requirement already satisfied: langsmith>=0.1.125 in /usr/local/lib/python3.11/dist-packages (from langchain-community) (0.4.8)\n",
      "Requirement already satisfied: httpx-sse<1.0.0,>=0.4.0 in /usr/local/lib/python3.11/dist-packages (from langchain-community) (0.4.1)\n",
      "Requirement already satisfied: numpy>=1.26.2 in /usr/local/lib/python3.11/dist-packages (from langchain-community) (2.0.2)\n",
      "Requirement already satisfied: groq<1,>=0.29.0 in /usr/local/lib/python3.11/dist-packages (from langchain-groq) (0.30.0)\n",
      "Requirement already satisfied: aiohappyeyeballs>=2.3.0 in /usr/local/lib/python3.11/dist-packages (from aiohttp<4.0.0,>=3.8.3->langchain-community) (2.6.1)\n",
      "Requirement already satisfied: aiosignal>=1.1.2 in /usr/local/lib/python3.11/dist-packages (from aiohttp<4.0.0,>=3.8.3->langchain-community) (1.4.0)\n",
      "Requirement already satisfied: attrs>=17.3.0 in /usr/local/lib/python3.11/dist-packages (from aiohttp<4.0.0,>=3.8.3->langchain-community) (25.3.0)\n",
      "Requirement already satisfied: frozenlist>=1.1.1 in /usr/local/lib/python3.11/dist-packages (from aiohttp<4.0.0,>=3.8.3->langchain-community) (1.7.0)\n",
      "Requirement already satisfied: multidict<7.0,>=4.5 in /usr/local/lib/python3.11/dist-packages (from aiohttp<4.0.0,>=3.8.3->langchain-community) (6.6.3)\n",
      "Requirement already satisfied: propcache>=0.2.0 in /usr/local/lib/python3.11/dist-packages (from aiohttp<4.0.0,>=3.8.3->langchain-community) (0.3.2)\n",
      "Requirement already satisfied: yarl<2.0,>=1.17.0 in /usr/local/lib/python3.11/dist-packages (from aiohttp<4.0.0,>=3.8.3->langchain-community) (1.20.1)\n",
      "Requirement already satisfied: marshmallow<4.0.0,>=3.18.0 in /usr/local/lib/python3.11/dist-packages (from dataclasses-json<0.7,>=0.5.7->langchain-community) (3.26.1)\n",
      "Requirement already satisfied: typing-inspect<1,>=0.4.0 in /usr/local/lib/python3.11/dist-packages (from dataclasses-json<0.7,>=0.5.7->langchain-community) (0.9.0)\n",
      "Requirement already satisfied: anyio<5,>=3.5.0 in /usr/local/lib/python3.11/dist-packages (from groq<1,>=0.29.0->langchain-groq) (4.9.0)\n",
      "Requirement already satisfied: distro<2,>=1.7.0 in /usr/local/lib/python3.11/dist-packages (from groq<1,>=0.29.0->langchain-groq) (1.9.0)\n",
      "Requirement already satisfied: httpx<1,>=0.23.0 in /usr/local/lib/python3.11/dist-packages (from groq<1,>=0.29.0->langchain-groq) (0.28.1)\n",
      "Requirement already satisfied: pydantic<3,>=1.9.0 in /usr/local/lib/python3.11/dist-packages (from groq<1,>=0.29.0->langchain-groq) (2.11.7)\n",
      "Requirement already satisfied: sniffio in /usr/local/lib/python3.11/dist-packages (from groq<1,>=0.29.0->langchain-groq) (1.3.1)\n",
      "Requirement already satisfied: typing-extensions<5,>=4.10 in /usr/local/lib/python3.11/dist-packages (from groq<1,>=0.29.0->langchain-groq) (4.14.1)\n",
      "Requirement already satisfied: langchain-text-splitters<1.0.0,>=0.3.8 in /usr/local/lib/python3.11/dist-packages (from langchain<1.0.0,>=0.3.26->langchain-community) (0.3.8)\n",
      "Requirement already satisfied: jsonpatch<2.0,>=1.33 in /usr/local/lib/python3.11/dist-packages (from langchain-core<1.0.0,>=0.3.66->langchain-community) (1.33)\n",
      "Requirement already satisfied: packaging>=23.2 in /usr/local/lib/python3.11/dist-packages (from langchain-core<1.0.0,>=0.3.66->langchain-community) (25.0)\n",
      "Requirement already satisfied: orjson<4.0.0,>=3.9.14 in /usr/local/lib/python3.11/dist-packages (from langsmith>=0.1.125->langchain-community) (3.11.0)\n",
      "Requirement already satisfied: requests-toolbelt<2.0.0,>=1.0.0 in /usr/local/lib/python3.11/dist-packages (from langsmith>=0.1.125->langchain-community) (1.0.0)\n",
      "Requirement already satisfied: zstandard<0.24.0,>=0.23.0 in /usr/local/lib/python3.11/dist-packages (from langsmith>=0.1.125->langchain-community) (0.23.0)\n",
      "Requirement already satisfied: python-dotenv>=0.21.0 in /usr/local/lib/python3.11/dist-packages (from pydantic-settings<3.0.0,>=2.4.0->langchain-community) (1.1.1)\n",
      "Requirement already satisfied: typing-inspection>=0.4.0 in /usr/local/lib/python3.11/dist-packages (from pydantic-settings<3.0.0,>=2.4.0->langchain-community) (0.4.1)\n",
      "Requirement already satisfied: charset-normalizer<4,>=2 in /usr/local/lib/python3.11/dist-packages (from requests<3,>=2->langchain-community) (3.4.2)\n",
      "Requirement already satisfied: idna<4,>=2.5 in /usr/local/lib/python3.11/dist-packages (from requests<3,>=2->langchain-community) (3.10)\n",
      "Requirement already satisfied: urllib3<3,>=1.21.1 in /usr/local/lib/python3.11/dist-packages (from requests<3,>=2->langchain-community) (2.5.0)\n",
      "Requirement already satisfied: certifi>=2017.4.17 in /usr/local/lib/python3.11/dist-packages (from requests<3,>=2->langchain-community) (2025.7.14)\n",
      "Requirement already satisfied: greenlet>=1 in /usr/local/lib/python3.11/dist-packages (from SQLAlchemy<3,>=1.4->langchain-community) (3.2.3)\n",
      "Requirement already satisfied: httpcore==1.* in /usr/local/lib/python3.11/dist-packages (from httpx<1,>=0.23.0->groq<1,>=0.29.0->langchain-groq) (1.0.9)\n",
      "Requirement already satisfied: h11>=0.16 in /usr/local/lib/python3.11/dist-packages (from httpcore==1.*->httpx<1,>=0.23.0->groq<1,>=0.29.0->langchain-groq) (0.16.0)\n",
      "Requirement already satisfied: jsonpointer>=1.9 in /usr/local/lib/python3.11/dist-packages (from jsonpatch<2.0,>=1.33->langchain-core<1.0.0,>=0.3.66->langchain-community) (3.0.0)\n",
      "Requirement already satisfied: annotated-types>=0.6.0 in /usr/local/lib/python3.11/dist-packages (from pydantic<3,>=1.9.0->groq<1,>=0.29.0->langchain-groq) (0.7.0)\n",
      "Requirement already satisfied: pydantic-core==2.33.2 in /usr/local/lib/python3.11/dist-packages (from pydantic<3,>=1.9.0->groq<1,>=0.29.0->langchain-groq) (2.33.2)\n",
      "Requirement already satisfied: mypy-extensions>=0.3.0 in /usr/local/lib/python3.11/dist-packages (from typing-inspect<1,>=0.4.0->dataclasses-json<0.7,>=0.5.7->langchain-community) (1.1.0)\n",
      "Requirement already satisfied: pymupdf in /usr/local/lib/python3.11/dist-packages (1.26.3)\n",
      "Requirement already satisfied: markdown2 in /usr/local/lib/python3.11/dist-packages (2.5.3)\n",
      "Requirement already satisfied: weasyprint in /usr/local/lib/python3.11/dist-packages (66.0)\n",
      "Requirement already satisfied: pydyf>=0.11.0 in /usr/local/lib/python3.11/dist-packages (from weasyprint) (0.11.0)\n",
      "Requirement already satisfied: cffi>=0.6 in /usr/local/lib/python3.11/dist-packages (from weasyprint) (1.17.1)\n",
      "Requirement already satisfied: tinyhtml5>=2.0.0b1 in /usr/local/lib/python3.11/dist-packages (from weasyprint) (2.0.0)\n",
      "Requirement already satisfied: tinycss2>=1.4.0 in /usr/local/lib/python3.11/dist-packages (from weasyprint) (1.4.0)\n",
      "Requirement already satisfied: cssselect2>=0.8.0 in /usr/local/lib/python3.11/dist-packages (from weasyprint) (0.8.0)\n",
      "Requirement already satisfied: Pyphen>=0.9.1 in /usr/local/lib/python3.11/dist-packages (from weasyprint) (0.17.2)\n",
      "Requirement already satisfied: Pillow>=9.1.0 in /usr/local/lib/python3.11/dist-packages (from weasyprint) (11.3.0)\n",
      "Requirement already satisfied: fonttools>=4.0.0 in /usr/local/lib/python3.11/dist-packages (from fonttools[woff]>=4.0.0->weasyprint) (4.59.0)\n",
      "Requirement already satisfied: pycparser in /usr/local/lib/python3.11/dist-packages (from cffi>=0.6->weasyprint) (2.22)\n",
      "Requirement already satisfied: webencodings in /usr/local/lib/python3.11/dist-packages (from cssselect2>=0.8.0->weasyprint) (0.5.1)\n",
      "Requirement already satisfied: brotli>=1.0.1 in /usr/local/lib/python3.11/dist-packages (from fonttools[woff]>=4.0.0->weasyprint) (1.1.0)\n",
      "Requirement already satisfied: zopfli>=0.1.4 in /usr/local/lib/python3.11/dist-packages (from fonttools[woff]>=4.0.0->weasyprint) (0.2.3.post1)\n"
     ]
    }
   ],
   "source": [
    "# Install dependencies\n",
    "!pip install pygetpapers\n",
    "!pip install lxml\n",
    "!pip install langchain chromadb sentence-transformers\n",
    "!pip install -U langchain-huggingface\n",
    "!pip install -U langchain-community langchain-groq\n",
    "!pip install pymupdf markdown2 weasyprint"
   ]
  },
  {
   "cell_type": "markdown",
   "metadata": {
    "id": "mThWgh0yeAmw"
   },
   "source": [
    "### **Step 2: Set Groq API Key**\n",
    "Groq’s LPU (Language Processing Unit) hardware enables real-time, low-latency responses from LLMs—ideal for interactive applications.\n",
    "\n",
    "**Instructions:**\n",
    "* Go to https://console.groq.com/\n",
    "\n",
    "* Create an account if you don’t have one\n",
    "\n",
    "* Generate your API token\n",
    "\n",
    "* Copy and paste it when prompted below\n",
    "* CLICK **ENTER** once done."
   ]
  },
  {
   "cell_type": "code",
   "execution_count": null,
   "metadata": {
    "colab": {
     "base_uri": "https://localhost:8080/"
    },
    "id": "U2To2JYO28K6",
    "outputId": "03d555c1-a9ac-4ca3-98be-55d96ae00250"
   },
   "outputs": [
    {
     "name": "stdout",
     "output_type": "stream",
     "text": [
      "🔐 Enter your Groq API Key: ··········\n"
     ]
    }
   ],
   "source": [
    "#  Set API Key\n",
    "import os, getpass\n",
    "os.environ[\"GROQ_API_KEY\"] = getpass.getpass(\"🔐 Enter your Groq API Key: \")"
   ]
  },
  {
   "cell_type": "markdown",
   "metadata": {
    "id": "6E-ULkcfe8RF"
   },
   "source": [
    "### **Step 3: Download Research Papers**\n",
    "Use *pygetpapers* to fetch research articles related to the keyword."
   ]
  },
  {
   "cell_type": "code",
   "execution_count": null,
   "metadata": {
    "colab": {
     "base_uri": "https://localhost:8080/"
    },
    "id": "YtqyqV9Y3EdU",
    "outputId": "4f5f6bda-de3e-4e7c-ca41-c0e8672eb4e5"
   },
   "outputs": [
    {
     "name": "stdout",
     "output_type": "stream",
     "text": [
      "\u001b[1;30mINFO:\u001b[0m Total Hits are 77821\n",
      "\r",
      "0it [00:00, ?it/s]\r",
      "10it [00:00, 73713.60it/s]\n",
      "\u001b[1;30mINFO:\u001b[0m Saving XML files to /content/phytochemical_data/*/fulltext.xml\n",
      "100% 10/10 [00:13<00:00,  1.40s/it]\n"
     ]
    }
   ],
   "source": [
    "# Download papers from EuropePMC\n",
    "!pygetpapers --query '\"phytochemicals\"' --xml --limit 10 --output /content/phytochemical_data --save_query"
   ]
  },
  {
   "cell_type": "markdown",
   "metadata": {
    "id": "RSnSFCpXf_HK"
   },
   "source": [
    "### **Step 4: Parse XML/PDF Files to Markdown and Extract Metadata**\n",
    "Convert scientific articles (downloaded in XML format) into clean Markdown format and extract essential metadata like title, authors, and DOI."
   ]
  },
  {
   "cell_type": "code",
   "execution_count": null,
   "metadata": {
    "id": "Hljg_PRO3IwT"
   },
   "outputs": [],
   "source": [
    "#  Parse XMLs to Markdown and extract metadata\n",
    "import pathlib\n",
    "import re\n",
    "from lxml import etree\n",
    "import fitz  # PyMuPDF\n",
    "from datetime import datetime\n",
    "\n",
    "def sanitize_filename(name):\n",
    "    return re.sub(r'[\\/:\"*?<>|]+', \"_\", name)\n",
    "\n",
    "def extract_text_from_pdf(pdf_path):\n",
    "    try:\n",
    "        doc = fitz.open(pdf_path)\n",
    "        text = \"\"\n",
    "        for page in doc:\n",
    "            text += page.get_text()\n",
    "        return text.strip()\n",
    "    except Exception as e:\n",
    "        print(f\"❌ Error extracting PDF {pdf_path.name}: {e}\")\n",
    "        return \"\"\n",
    "\n",
    "def parse_xml_to_markdown_with_metadata(xml_path):\n",
    "    try:\n",
    "        with open(xml_path, 'rb') as f:\n",
    "            tree = etree.parse(f)\n",
    "\n",
    "        metadata = {\n",
    "            \"title\": \"\",\n",
    "            \"authors\": [],\n",
    "            \"doi\": \"\",\n",
    "        }\n",
    "\n",
    "        title_elem = tree.find(\".//article-title\")\n",
    "        if title_elem is not None:\n",
    "            full_title = title_elem.xpath(\"string()\").strip()\n",
    "            metadata[\"title\"] = full_title if full_title else xml_path.stem\n",
    "        else:\n",
    "            metadata[\"title\"] = xml_path.stem\n",
    "\n",
    "        doi_elem = tree.find(\".//article-id[@pub-id-type='doi']\")\n",
    "        if doi_elem is not None and doi_elem.text:\n",
    "            metadata[\"doi\"] = \"https://doi.org/\" + doi_elem.text.strip()\n",
    "\n",
    "        authors = []\n",
    "        for contrib in tree.findall(\".//contrib[@contrib-type='author']\"):\n",
    "            name = contrib.find('name')\n",
    "            if name is not None:\n",
    "                given = name.findtext('given-names', default='')\n",
    "                surname = name.findtext('surname', default='')\n",
    "                full_name = f\"{given} {surname}\".strip()\n",
    "                if full_name:\n",
    "                    authors.append(full_name)\n",
    "\n",
    "        metadata[\"authors\"] = \", \".join(authors)\n",
    "\n",
    "        sections = tree.xpath('//body//sec')\n",
    "        text_parts = []\n",
    "\n",
    "        for sec in sections:\n",
    "            title = sec.findtext('title')\n",
    "            if title:\n",
    "                text_parts.append(f\"### {title.strip()}\")\n",
    "            paragraphs = sec.findall('p')\n",
    "            for p in paragraphs:\n",
    "                if p.text and p.text.strip():\n",
    "                    text_parts.append(p.text.strip())\n",
    "\n",
    "        markdown_text = \"\\n\\n\".join(text_parts)\n",
    "        return markdown_text, metadata\n",
    "\n",
    "    except Exception as e:\n",
    "        print(f\"❌ Error parsing {xml_path.name}: {e}\")\n",
    "        return None\n",
    "\n",
    "def process_input_path(input_path, output_dir):\n",
    "    input_path = pathlib.Path(input_path)\n",
    "    output_path = pathlib.Path(output_dir)\n",
    "    output_path.mkdir(parents=True, exist_ok=True)\n",
    "\n",
    "    metadata_records = []\n",
    "\n",
    "    if input_path.is_file():\n",
    "        if input_path.suffix.lower() == \".xml\":\n",
    "            result = parse_xml_to_markdown_with_metadata(input_path)\n",
    "            if result:\n",
    "                raw_text, metadata = result\n",
    "                if raw_text.strip():\n",
    "                    final_name = sanitize_filename(input_path.stem) + \"_final.md\"\n",
    "                    final_path = output_path / final_name\n",
    "                    final_path.write_text(raw_text, encoding=\"utf-8\")\n",
    "                    metadata[\"filename\"] = final_path.name\n",
    "                    metadata_records.append((final_path, metadata))\n",
    "\n",
    "        elif input_path.suffix.lower() == \".pdf\":\n",
    "            text = extract_text_from_pdf(input_path)\n",
    "            if text:\n",
    "                # Extract better title from first few lines\n",
    "                first_lines = text.split('\\n')[:3]\n",
    "                title_candidate = next((line.strip() for line in first_lines if len(line.strip()) > 10), input_path.stem)\n",
    "                title_candidate = title_candidate.replace(\"_\", \" \").strip().title()\n",
    "\n",
    "                # Try to extract DOI using regex\n",
    "                doi_match = re.search(r\"(10\\.\\d{4,9}/[-._;()/:A-Z0-9]+)\", text, re.I)\n",
    "                doi = f\"https://doi.org/{doi_match.group(1)}\" if doi_match else \"\"\n",
    "\n",
    "                final_name = sanitize_filename(input_path.stem) + \"_final.md\"\n",
    "                final_path = output_path / final_name\n",
    "                final_path.write_text(text, encoding=\"utf-8\")\n",
    "\n",
    "                metadata = {\n",
    "                    \"title\": title_candidate,\n",
    "                    \"authors\": \"Unknown\",\n",
    "                    \"doi\": doi,\n",
    "                    \"filename\": final_path.name\n",
    "                }\n",
    "\n",
    "                metadata_records.append((final_path, metadata))\n",
    "\n",
    "    elif input_path.is_dir():\n",
    "        for file in input_path.glob(\"**/*\"):\n",
    "            metadata_records += process_input_path(file, output_dir)\n",
    "\n",
    "    return metadata_records"
   ]
  },
  {
   "cell_type": "markdown",
   "metadata": {
    "id": "9PLTgFRMgq8F"
   },
   "source": [
    "### **Step 5:Create Vector Database**\n",
    "Process documents to store them as vectors, enabling question-answering with a retrieval system."
   ]
  },
  {
   "cell_type": "code",
   "execution_count": null,
   "metadata": {
    "id": "hSSL2TQq3Tzy"
   },
   "outputs": [],
   "source": [
    "#  Load and Chunk Documents with Metadata\n",
    "from langchain.schema import Document\n",
    "from langchain.text_splitter import RecursiveCharacterTextSplitter\n",
    "from langchain.vectorstores import Chroma\n",
    "from langchain.embeddings import HuggingFaceEmbeddings\n",
    "from langchain.prompts import PromptTemplate\n",
    "from langchain.chains import RetrievalQA\n",
    "from langchain_groq import ChatGroq\n",
    "from langchain_huggingface import HuggingFaceEmbeddings as HFEmbeddings\n",
    "\n",
    "\n",
    "def load_markdown_documents_with_metadata(metadata_records):\n",
    "    documents = []\n",
    "    for md_path, metadata in metadata_records:\n",
    "        text = md_path.read_text(encoding=\"utf-8\")\n",
    "        if text.strip():\n",
    "            doc = Document(page_content=text, metadata=metadata)\n",
    "            documents.append(doc)\n",
    "    return documents\n",
    "\n",
    "def hybrid_chunking(documents, threshold=3000):\n",
    "    chunks = []\n",
    "    for doc in documents:\n",
    "        if len(doc.page_content.strip()) <= threshold:\n",
    "            chunks.append(doc)\n",
    "        else:\n",
    "            splitter = RecursiveCharacterTextSplitter(chunk_size=1800, chunk_overlap=300)\n",
    "            split_docs = splitter.split_documents([doc])\n",
    "            for chunk in split_docs:\n",
    "                chunk.metadata.update(doc.metadata)\n",
    "            chunks.extend(split_docs)\n",
    "    return chunks\n",
    "\n",
    "def create_vector_database(chunks):\n",
    "    embeddings = HFEmbeddings(model_name=\"all-mpnet-base-v2\")\n",
    "    vector_db = Chroma.from_documents(\n",
    "        documents=chunks,\n",
    "        embedding=embeddings,\n",
    "        collection_name=\"scientific_rag_db\",\n",
    "        persist_directory=\"/content/db\"\n",
    "    )\n",
    "    return vector_db\n",
    "\n",
    "def create_retrieval_chain(vector_db):\n",
    "    llm = ChatGroq(\n",
    "        model=\"llama3-70b-8192\",\n",
    "        temperature=0.2,\n",
    "        max_tokens=512,\n",
    "        api_key=os.environ.get(\"GROQ_API_KEY\")\n",
    "    )\n",
    "    prompt_template = PromptTemplate.from_template(\n",
    "        '''You are an expert scientific research assistant with access to reliable academic content. Based on the context provided, answer the user’s question as accurately and concisely as possible. When appropriate, include definitions, examples, or explanations to enhance clarity. If the context does not contain enough information to answer the question, say so honestly.\n",
    "\n",
    "Context:\n",
    "{context}\n",
    "\n",
    "Question: {question}\n",
    "\n",
    "Answer:'''\n",
    "    )\n",
    "    qa_chain = RetrievalQA.from_chain_type(\n",
    "        llm=llm,\n",
    "        chain_type=\"stuff\",\n",
    "        retriever=vector_db.as_retriever(search_kwargs={\"k\": 3}),\n",
    "        return_source_documents=True,\n",
    "        chain_type_kwargs={\"prompt\": prompt_template}\n",
    "    )\n",
    "    return qa_chain"
   ]
  },
  {
   "cell_type": "markdown",
   "metadata": {
    "id": "goQWf9AGhXjY"
   },
   "source": [
    "### **Step 6: Execute pipeline for Processing and Retrieval**\n",
    "Runs the entire pipeline from downloading scientific papers to processing them, creating a vector database, and setting up the question-answering system."
   ]
  },
  {
   "cell_type": "code",
   "execution_count": null,
   "metadata": {
    "colab": {
     "base_uri": "https://localhost:8080/",
     "height": 534,
     "referenced_widgets": [
      "bd8a5fd2be474a69883e6e8c712b3c2b",
      "192d10f531b9425b917ce0ce72088e9a",
      "fe4cfbbebf4a486195d568f9227f0237",
      "5af1f11abe2b4716bb1cb89ec64ce1c1",
      "60f0bbca417a4b9b95b9443cda0249ae",
      "968968ed470947fa8a604ed2d233b624",
      "b0e945964f5243f4bc0c27702faed4ab",
      "2437fa24063e4859bd18442f29dc704f",
      "001253c0e79841138ebf2c08863fd11b",
      "04650f22a69f4699b489ca4ed9b5c8ce",
      "a93d633a1f6446fba14afa1eeab86b01",
      "5bb8cf405e6746c5863c94f039db0d0d",
      "bde346f6dca545ec993b62b3fb58e397",
      "26af67e408b847999834c7d37bf9929f",
      "be1fcfaf6b0745768719efc6a88835db",
      "8a3cf12997d54bf3ace1bb4e74ef0585",
      "dc74224043384fe9968cae022216d0fb",
      "50b225521390482bb44e351232753d16",
      "1c169422092445edb35f6a8981629fc2",
      "c164bf34cd4d46f69556cece43d854a0",
      "c5cb4b2af33941228f4e934135ad44f9",
      "5dde48853c994effa579954a5ab5570e",
      "bbfe2826109140cba78afa6937b7f8ea",
      "a3f15db1b09e4214bdb39545abbee335",
      "9cb87a2b4a61433fb0585a2ff08f6bca",
      "1a9cd6a7d5f84d3ab4c2de583e0838af",
      "13ca9fecc82e4172ab6ff52a96dad196",
      "b4faddcbef8d4d75ae6ad5c484f073a5",
      "dae38dee8d4b4fbb8c5357ebfa32bd9e",
      "655b6e991ccb497bb17334d0aa7d01b1",
      "3e6b06dafa5f4fdda8245cb7aeeeae0f",
      "78fdbaf89a7448538846b068d53d1c20",
      "bbe1e56f05fb41ecb17ee76cd7c963f2",
      "ece2b86dc80b467e9569a8282fdddc91",
      "cb04136dd0144b3a881ad2b256e87d8e",
      "485ab11a0d6141bb90daaa72d6ca7325",
      "559d6865eb6a4f5885573d22c0dc7f10",
      "7db4ea74e3b64484877dea0bc8ac8c94",
      "c9cffee4a4e74908b722c7e68315c564",
      "4f4b48ccfbed49b3b0241de24b056c85",
      "50873af677b14f5dbcddc1ed96bc54af",
      "62d8df210501440db96a7af2a1eeda29",
      "806c605bd6e64790a7060a8300515dbc",
      "6a239bdf2bcc481ca03a443676772031",
      "81a08cfc9a26414e9b977194db2e8828",
      "a9496c184aeb4847b70cdf6f3606938b",
      "09699175f4484ef4adc2482b79534f0f",
      "ddafa86347254cc89352271e532131e9",
      "c7ad4988a968453f8be220f143a76032",
      "2f19bc6e9af744a4b1becaa5c4654a3f",
      "aba45b3db7624f26953f29241447bcac",
      "baead8c269f8434783adf3f09e49a2a0",
      "410b87947bd04b1b9716d4d23d2fd508",
      "9a7b9996f85a4ec3822f47105a5faf78",
      "3a3a98d0af444b7d87423c64078be2f3",
      "bb577a9d3c7348f7b18170991f13f931",
      "559cc265d5b64f9686413938a9355fdb",
      "339936d96915480bbea1894b07a98017",
      "1a4802daa06f469fb5315deacc614e92",
      "c88eb413bff84cb7bbeb82ffc0a3dafb",
      "29a565abf99e4f9497301612f293bca1",
      "b74e92bab2694061982f7cb8178ed262",
      "9749324eb9524318a5b83ab5e13e221b",
      "f9d0e1bbb0364bceb74d5b2dbe9585a7",
      "0b660719c070466cb60529e2ebd69b68",
      "9a296f190124404b888c008d1d75af47",
      "1ca26ebb2c2749bbb1b18a2842d47dc6",
      "772a6e8e8f8d414d865061b71dc3a66a",
      "87991bdcc99645a4838bc49f23553f5d",
      "8ea0a26340004c81906c681c71f3b4ec",
      "88561db2eb0f424ea20b28fdcc24da2a",
      "d7e96ec73ba54a7fb9fd634227d4c38a",
      "39e1c7cd2cbb415e8344c77dc0752c90",
      "12c2346b230146bdb899e348c93a562c",
      "4371bd3052c54244b6e163047ee1dfac",
      "76447ad60edb4c5380877ade8871e68f",
      "a6ece61db85f4fdfba878140c93c50ed",
      "efbb282bdd16466bb699356c5c4c04ca",
      "e00d43a62d404f8bb3003d45225d0396",
      "5bf286b8fdd443a7951e948a29ea81d3",
      "bce914aaba6e4a0c95a197836ed7e2b1",
      "276ec1cb997d45f296249d034be525c1",
      "5c908026bf664f58bec824acf4723d89",
      "61b0c0e2025544339633cca4d22b0360",
      "2f0fda25108449218a86652d89a2c9c5",
      "30b425224ebb48bba452a4b57c9e57f0",
      "fa545fcab16b439ea305d5af387c9a49",
      "a0a989c3309a4eb3ae446e680573e10c",
      "ff84d6e8db7f4bb496b42770f1599033",
      "64f29f7edf9348e7a3a6b98e653f8f4c",
      "18f9da5c4f714a93aeb1985f47023f76",
      "5ebe7cf09ccc4f15a76881e2d1520c25",
      "8a600582cae84535a911ae2bbe45ac9d",
      "7c005d64f79149c691a1e4b896644b3c",
      "2a972efe064c4f33865cdce45f0914d8",
      "1b0c39f906034a589440d773d9b607a9",
      "965a9486bdd140348aaa0ce5c7f2250b",
      "4f3002f140664190965ad652c599f830",
      "9f4332d6b5ca4ffdb24db95a15058920",
      "98d34b1014a044638e7135f092a5d908",
      "26dcfcdec62f4ba5b232c753ee2df728",
      "9b3eb82655fa4d1fafc0912b06403e56",
      "ed1fbc2e54274ad09a45b8506bd4d03c",
      "cbd466b097ee482db4cb8d56be027ae3",
      "da4b5c0664a742e2ae81b7dd0678a883",
      "d263ef179198453aa1812ea4d1cd9b0c",
      "209c09f0d65a4a32bc0fedba8c6581d7",
      "05a515c85b9b4d2298f2622476ec918e",
      "c77ddb249802485aa1be2f0848f90032",
      "3469c896d1494c69a8d2678042f5af0e",
      "e2b5953582ab4e8d9871630217502515",
      "ec40640dbbfb447ca0ced33581048c94",
      "945dee0fa2c3443088300a2dc7b80709",
      "ac2184e840e749209381dc7c60f96751",
      "fa0db78173dc4523a0959e917ee33eff",
      "55f2a0acfdc74f05853e00f250a1434f",
      "19d632f064f3400d82bca22731a267ca",
      "28f7fffefb2d4e0f97d213990247d0dd",
      "c1c8d1766306464ca894ef172c3c7404",
      "cd24b46da58f4eab9ea478bf46b558ad",
      "7365f55a0aa34c099323140378642d8f"
     ]
    },
    "id": "Q4pwnlXv3WcT",
    "outputId": "e1028f91-7917-48a2-c106-8870052fa689"
   },
   "outputs": [
    {
     "name": "stdout",
     "output_type": "stream",
     "text": [
      "📂 Enter path to a PDF/XML file or folder (e.g.,  /content/phytochemical_data: /content/phytochemical_data\n"
     ]
    },
    {
     "name": "stderr",
     "output_type": "stream",
     "text": [
      "/usr/local/lib/python3.11/dist-packages/huggingface_hub/utils/_auth.py:94: UserWarning: \n",
      "The secret `HF_TOKEN` does not exist in your Colab secrets.\n",
      "To authenticate with the Hugging Face Hub, create a token in your settings tab (https://huggingface.co/settings/tokens), set it as secret in your Google Colab and restart your session.\n",
      "You will be able to reuse this secret in all of your notebooks.\n",
      "Please note that authentication is recommended but still optional to access public models or datasets.\n",
      "  warnings.warn(\n"
     ]
    },
    {
     "data": {
      "application/vnd.jupyter.widget-view+json": {
       "model_id": "bd8a5fd2be474a69883e6e8c712b3c2b",
       "version_major": 2,
       "version_minor": 0
      },
      "text/plain": [
       "modules.json:   0%|          | 0.00/349 [00:00<?, ?B/s]"
      ]
     },
     "metadata": {},
     "output_type": "display_data"
    },
    {
     "data": {
      "application/vnd.jupyter.widget-view+json": {
       "model_id": "5bb8cf405e6746c5863c94f039db0d0d",
       "version_major": 2,
       "version_minor": 0
      },
      "text/plain": [
       "config_sentence_transformers.json:   0%|          | 0.00/116 [00:00<?, ?B/s]"
      ]
     },
     "metadata": {},
     "output_type": "display_data"
    },
    {
     "data": {
      "application/vnd.jupyter.widget-view+json": {
       "model_id": "bbfe2826109140cba78afa6937b7f8ea",
       "version_major": 2,
       "version_minor": 0
      },
      "text/plain": [
       "README.md: 0.00B [00:00, ?B/s]"
      ]
     },
     "metadata": {},
     "output_type": "display_data"
    },
    {
     "data": {
      "application/vnd.jupyter.widget-view+json": {
       "model_id": "ece2b86dc80b467e9569a8282fdddc91",
       "version_major": 2,
       "version_minor": 0
      },
      "text/plain": [
       "sentence_bert_config.json:   0%|          | 0.00/53.0 [00:00<?, ?B/s]"
      ]
     },
     "metadata": {},
     "output_type": "display_data"
    },
    {
     "data": {
      "application/vnd.jupyter.widget-view+json": {
       "model_id": "81a08cfc9a26414e9b977194db2e8828",
       "version_major": 2,
       "version_minor": 0
      },
      "text/plain": [
       "config.json:   0%|          | 0.00/571 [00:00<?, ?B/s]"
      ]
     },
     "metadata": {},
     "output_type": "display_data"
    },
    {
     "data": {
      "application/vnd.jupyter.widget-view+json": {
       "model_id": "bb577a9d3c7348f7b18170991f13f931",
       "version_major": 2,
       "version_minor": 0
      },
      "text/plain": [
       "model.safetensors:   0%|          | 0.00/438M [00:00<?, ?B/s]"
      ]
     },
     "metadata": {},
     "output_type": "display_data"
    },
    {
     "data": {
      "application/vnd.jupyter.widget-view+json": {
       "model_id": "1ca26ebb2c2749bbb1b18a2842d47dc6",
       "version_major": 2,
       "version_minor": 0
      },
      "text/plain": [
       "tokenizer_config.json:   0%|          | 0.00/363 [00:00<?, ?B/s]"
      ]
     },
     "metadata": {},
     "output_type": "display_data"
    },
    {
     "data": {
      "application/vnd.jupyter.widget-view+json": {
       "model_id": "efbb282bdd16466bb699356c5c4c04ca",
       "version_major": 2,
       "version_minor": 0
      },
      "text/plain": [
       "vocab.txt: 0.00B [00:00, ?B/s]"
      ]
     },
     "metadata": {},
     "output_type": "display_data"
    },
    {
     "data": {
      "application/vnd.jupyter.widget-view+json": {
       "model_id": "ff84d6e8db7f4bb496b42770f1599033",
       "version_major": 2,
       "version_minor": 0
      },
      "text/plain": [
       "tokenizer.json: 0.00B [00:00, ?B/s]"
      ]
     },
     "metadata": {},
     "output_type": "display_data"
    },
    {
     "data": {
      "application/vnd.jupyter.widget-view+json": {
       "model_id": "98d34b1014a044638e7135f092a5d908",
       "version_major": 2,
       "version_minor": 0
      },
      "text/plain": [
       "special_tokens_map.json:   0%|          | 0.00/239 [00:00<?, ?B/s]"
      ]
     },
     "metadata": {},
     "output_type": "display_data"
    },
    {
     "data": {
      "application/vnd.jupyter.widget-view+json": {
       "model_id": "e2b5953582ab4e8d9871630217502515",
       "version_major": 2,
       "version_minor": 0
      },
      "text/plain": [
       "config.json:   0%|          | 0.00/190 [00:00<?, ?B/s]"
      ]
     },
     "metadata": {},
     "output_type": "display_data"
    },
    {
     "name": "stdout",
     "output_type": "stream",
     "text": [
      " RAG System Ready.\n"
     ]
    }
   ],
   "source": [
    "user_path = input(\"📂 Enter path to a PDF/XML file or folder (e.g.,  /content/phytochemical_data: \").strip()\n",
    "markdown_dir = \"/content/markdowns\"\n",
    "os.makedirs(markdown_dir, exist_ok=True)\n",
    "\n",
    "metadata_records = process_input_path(user_path, markdown_dir)\n",
    "docs = load_markdown_documents_with_metadata(metadata_records)\n",
    "chunks = hybrid_chunking(docs)\n",
    "vector_db = create_vector_database(chunks)\n",
    "qa_chain = create_retrieval_chain(vector_db)\n",
    "print(\" RAG System Ready.\")"
   ]
  },
  {
   "cell_type": "markdown",
   "metadata": {
    "id": "cKn8Ptvjhtgj"
   },
   "source": [
    "### **Step 7: Query your newly created RAG/LLM**\n",
    "Allow users to ask scientific questions and get answers based on the documents stored in the vector database\n",
    "---\n",
    "### Examples of the questions to be ask\n",
    "\n",
    "* what are natural phytochemicals\n",
    "* What are phythochemicals?\n",
    "* list of all the chemicals mentioned in the database\n",
    "* what is the role og PGE2 (Prostaglandin E2)?\n",
    "* Insights Into the Ameliorative Role of Plant-Derived Compounds"
   ]
  },
  {
   "cell_type": "code",
   "execution_count": null,
   "metadata": {
    "colab": {
     "base_uri": "https://localhost:8080/",
     "height": 518
    },
    "id": "CRKhFuq93b2s",
    "outputId": "e55c8389-d702-47f4-e49e-bc14b95baec1"
   },
   "outputs": [
    {
     "name": "stdout",
     "output_type": "stream",
     "text": [
      "🧠 Ask a scientific question (or type 'quit'): what is natural phytochemicals?\n"
     ]
    },
    {
     "data": {
      "text/markdown": [
       "### Answer:\n",
       "\n",
       "Based on the context provided, phytochemicals refer to bioactive compounds found in plants. These compounds are naturally occurring and can be found in various plant-based foods, herbs, and spices. Phytochemicals have been reported to possess various biological activities, including antioxidant, anti-inflammatory, and anticancer properties.\n",
       "\n",
       "In the context of this study, the phytochemicals of interest are those found in a specific plant, referred to as FC (the exact identity of FC is not specified in the provided context). The researchers have identified 114 phytochemicals in FC and further filtered them based on oral bioavailability and drug-likeness to obtain 19 active phytochemicals.\n",
       "\n",
       "Examples of phytochemicals include flavonoids, carotenoids, phenolic acids, and alkaloids, which can be found in various plant-based foods such as fruits, vegetables, and herbs.\n",
       "\n",
       "**Sources:**\n",
       "- [Natural phytochemical-based strategies for antibiofilm applications](https://doi.org/10.1186/s13020-025-01147-5)\n",
       "- [Unlocking the potential of phytochemicals in inhibiting SARS-CoV-2 MPro protein - an in silico and cell-based approach](https://doi.org/10.1038/s41598-025-05907-z)"
      ],
      "text/plain": [
       "<IPython.core.display.Markdown object>"
      ]
     },
     "metadata": {},
     "output_type": "display_data"
    },
    {
     "name": "stdout",
     "output_type": "stream",
     "text": [
      "🧠 Ask a scientific question (or type 'quit'): list of all the phytochemicals present in the database?\n"
     ]
    },
    {
     "data": {
      "text/markdown": [
       "### Answer:\n",
       "\n",
       "Based on the provided context, it is mentioned in section 3.1 that \"A total of 114 phytochemicals of FC were retrieved from the Traditional Chinese Medicine Systems Pharmacology Database.\" However, the list of all 114 phytochemicals is not provided in the given context. Only 19 active phytochemicals that meet the criteria of oral bioavailability ≥30% and drug-likeness ≥0.18 are mentioned, but the complete list of 114 phytochemicals is not provided.\n",
       "\n",
       "**Sources:**\n",
       "- [Natural phytochemical-based strategies for antibiofilm applications](https://doi.org/10.1186/s13020-025-01147-5)\n",
       "- [Plant Metabolites as Potential Agents That Potentiate or Block Resistance Mechanisms Involving β-Lactamases and Efflux Pumps](https://doi.org/10.3390/ijms26125550)"
      ],
      "text/plain": [
       "<IPython.core.display.Markdown object>"
      ]
     },
     "metadata": {},
     "output_type": "display_data"
    },
    {
     "name": "stdout",
     "output_type": "stream",
     "text": [
      "🧠 Ask a scientific question (or type 'quit'): quit\n",
      " Q&A Markdown log saved to /content/QA_Log.md\n"
     ]
    }
   ],
   "source": [
    "from IPython.display import Markdown, display\n",
    "\n",
    "qa_log_md = \"/content/QA_Log.md\"\n",
    "with open(qa_log_md, \"w\", encoding=\"utf-8\") as log_file:\n",
    "    log_file.write(f\"# Q&A Log - {datetime.now().strftime('%Y-%m-%d %H:%M:%S')}\\n\\n\")\n",
    "\n",
    "    while True:\n",
    "        query = input(\"🧠 Ask a scientific question (or type 'quit'): \").strip()\n",
    "        if query.lower() == \"quit\":\n",
    "            print(f\" Q&A Markdown log saved to {qa_log_md}\")\n",
    "            break\n",
    "\n",
    "        result = qa_chain.invoke({\"query\": query})\n",
    "        answer = result.get(\"result\", \"\")\n",
    "\n",
    "        # Get top 2 sources\n",
    "        source_lines = []\n",
    "        top_sources = result.get(\"source_documents\", [])[:2]\n",
    "        for doc in top_sources:\n",
    "            title = doc.metadata.get(\"title\", \"\").strip()\n",
    "            if not title or title.lower() in [\"untitled\", \"fulltext\"]:\n",
    "                title = doc.metadata.get(\"filename\", \"\").replace(\"_final.md\", \"\").strip()\n",
    "\n",
    "            doi = doc.metadata.get(\"doi\", \"\").strip()\n",
    "            source_lines.append(f\"- [{title}]({doi})\" if doi else f\"- {title}\")\n",
    "\n",
    "        sources_md = \"\\n\".join(source_lines)\n",
    "\n",
    "        # Display Answer + Sources in Markdown format\n",
    "        display(Markdown(f\"### Answer:\\n\\n{answer}\\n\\n**Sources:**\\n{sources_md}\"))\n",
    "\n",
    "        # Save to Q&A Markdown log\n",
    "        with open(qa_log_md, \"a\", encoding=\"utf-8\") as log_file:\n",
    "            log_file.write(f\"### Question:\\n{query}\\n\\n\")\n",
    "            log_file.write(f\"### Answer:\\n{answer}\\n\\n\")\n",
    "            if sources_md:\n",
    "                log_file.write(\"**Sources:**\\n\" + sources_md + \"\\n\\n\")\n"
   ]
  },
  {
   "cell_type": "markdown",
   "metadata": {
    "id": "5h1FhbatPqcD"
   },
   "source": [
    "### **(OPTIONAL)Step 8:CONVERT Q&A LOG TO PDF**"
   ]
  },
  {
   "cell_type": "code",
   "execution_count": null,
   "metadata": {
    "colab": {
     "base_uri": "https://localhost:8080/",
     "height": 1000
    },
    "collapsed": true,
    "id": "i5iXgh2ZMVUp",
    "outputId": "02dbdaaf-f904-444b-8699-f40785f395de"
   },
   "outputs": [
    {
     "name": "stderr",
     "output_type": "stream",
     "text": [
      "DEBUG:fontTools.ttLib.ttFont:Reading 'maxp' table from disk\n",
      "DEBUG:fontTools.ttLib.ttFont:Decompiling 'maxp' table\n",
      "DEBUG:fontTools.subset.timer:Took 0.002s to load 'maxp'\n",
      "DEBUG:fontTools.subset.timer:Took 0.000s to prune 'maxp'\n",
      "INFO:fontTools.subset:maxp pruned\n",
      "DEBUG:fontTools.ttLib.ttFont:Reading 'cmap' table from disk\n",
      "DEBUG:fontTools.ttLib.ttFont:Decompiling 'cmap' table\n",
      "DEBUG:fontTools.ttLib.ttFont:Reading 'post' table from disk\n",
      "DEBUG:fontTools.ttLib.ttFont:Decompiling 'post' table\n",
      "DEBUG:fontTools.subset.timer:Took 0.005s to load 'cmap'\n",
      "DEBUG:fontTools.subset.timer:Took 0.000s to prune 'cmap'\n",
      "INFO:fontTools.subset:cmap pruned\n",
      "INFO:fontTools.subset:fpgm dropped\n",
      "INFO:fontTools.subset:prep dropped\n",
      "INFO:fontTools.subset:cvt  dropped\n",
      "DEBUG:fontTools.subset.timer:Took 0.000s to load 'post'\n",
      "DEBUG:fontTools.subset.timer:Took 0.000s to prune 'post'\n",
      "INFO:fontTools.subset:post pruned\n",
      "DEBUG:fontTools.ttLib.ttFont:Reading 'glyf' table from disk\n",
      "DEBUG:fontTools.ttLib.ttFont:Decompiling 'glyf' table\n",
      "DEBUG:fontTools.ttLib.ttFont:Reading 'loca' table from disk\n",
      "DEBUG:fontTools.ttLib.ttFont:Decompiling 'loca' table\n",
      "DEBUG:fontTools.ttLib.ttFont:Reading 'head' table from disk\n",
      "DEBUG:fontTools.ttLib.ttFont:Decompiling 'head' table\n",
      "DEBUG:fontTools.subset.timer:Took 0.006s to load 'glyf'\n",
      "DEBUG:fontTools.subset.timer:Took 0.000s to prune 'glyf'\n",
      "INFO:fontTools.subset:glyf pruned\n",
      "DEBUG:fontTools.subset.timer:Took 0.000s to close glyph list over 'cmap'\n",
      "INFO:fontTools.subset:Added gid0 to subset\n",
      "INFO:fontTools.subset:Closing glyph list over 'glyf': 28 glyphs before\n",
      "INFO:fontTools.subset:Glyph names: ['.notdef', 'A', 'L', 'Q', 'S', 'ampersand', 'c', 'colon', 'e', 'five', 'four', 'g', 'i', 'n', 'nine', 'o', 'one', 'r', 's', 'seven', 't', 'three', 'two', 'u', 'uni00A0', 'uni00AD', 'w', 'zero']\n",
      "INFO:fontTools.subset:Glyph IDs:   [0, 3, 9, 16, 19, 20, 21, 22, 23, 24, 26, 28, 29, 36, 47, 52, 54, 70, 72, 74, 76, 81, 82, 85, 86, 87, 88, 90]\n",
      "INFO:fontTools.subset:Closed glyph list over 'glyf': 28 glyphs after\n",
      "INFO:fontTools.subset:Glyph names: ['.notdef', 'A', 'L', 'Q', 'S', 'ampersand', 'c', 'colon', 'e', 'five', 'four', 'g', 'i', 'n', 'nine', 'o', 'one', 'r', 's', 'seven', 't', 'three', 'two', 'u', 'uni00A0', 'uni00AD', 'w', 'zero']\n",
      "INFO:fontTools.subset:Glyph IDs:   [0, 3, 9, 16, 19, 20, 21, 22, 23, 24, 26, 28, 29, 36, 47, 52, 54, 70, 72, 74, 76, 81, 82, 85, 86, 87, 88, 90]\n",
      "DEBUG:fontTools.subset.timer:Took 0.004s to close glyph list over 'glyf'\n",
      "INFO:fontTools.subset:Retaining 28 glyphs\n",
      "INFO:fontTools.subset:head subsetting not needed\n",
      "INFO:fontTools.subset:hhea subsetting not needed\n",
      "INFO:fontTools.subset:maxp subsetting not needed\n",
      "INFO:fontTools.subset:OS/2 subsetting not needed\n",
      "DEBUG:fontTools.ttLib.ttFont:Reading 'hmtx' table from disk\n",
      "DEBUG:fontTools.ttLib.ttFont:Decompiling 'hmtx' table\n",
      "DEBUG:fontTools.ttLib.ttFont:Reading 'hhea' table from disk\n",
      "DEBUG:fontTools.ttLib.ttFont:Decompiling 'hhea' table\n",
      "DEBUG:fontTools.subset.timer:Took 0.003s to subset 'hmtx'\n",
      "INFO:fontTools.subset:hmtx subsetted\n",
      "DEBUG:fontTools.subset.timer:Took 0.003s to subset 'cmap'\n",
      "INFO:fontTools.subset:cmap subsetted\n",
      "INFO:fontTools.subset:loca subsetting not needed\n",
      "DEBUG:fontTools.subset.timer:Took 0.000s to subset 'post'\n",
      "INFO:fontTools.subset:post subsetted\n",
      "INFO:fontTools.subset:gasp subsetting not needed\n",
      "INFO:fontTools.subset:FFTM NOT subset; don't know how to subset\n",
      "DEBUG:fontTools.ttLib.ttFont:Reading 'GDEF' table from disk\n",
      "DEBUG:fontTools.ttLib.ttFont:Decompiling 'GDEF' table\n",
      "DEBUG:fontTools.subset.timer:Took 0.001s to subset 'GDEF'\n",
      "INFO:fontTools.subset:GDEF subsetted\n",
      "INFO:fontTools.subset:name subsetting not needed\n",
      "DEBUG:fontTools.subset.timer:Took 0.000s to subset 'glyf'\n",
      "INFO:fontTools.subset:glyf subsetted\n",
      "DEBUG:fontTools.subset.timer:Took 0.000s to subset GlyphOrder\n",
      "DEBUG:fontTools.subset.timer:Took 0.000s to prune 'head'\n",
      "INFO:fontTools.subset:head pruned\n",
      "DEBUG:fontTools.ttLib.ttFont:Reading 'OS/2' table from disk\n",
      "DEBUG:fontTools.ttLib.ttFont:Decompiling 'OS/2' table\n",
      "INFO:fontTools.subset:OS/2 Unicode ranges pruned: [0, 1]\n",
      "INFO:fontTools.subset:OS/2 CodePage ranges pruned: [0]\n",
      "DEBUG:fontTools.subset.timer:Took 0.000s to prune 'glyf'\n",
      "INFO:fontTools.subset:glyf pruned\n",
      "DEBUG:fontTools.subset.timer:Took 0.000s to prune 'GDEF'\n",
      "INFO:fontTools.subset:GDEF pruned\n",
      "DEBUG:fontTools.ttLib.ttFont:Reading 'name' table from disk\n",
      "DEBUG:fontTools.ttLib.ttFont:Decompiling 'name' table\n",
      "DEBUG:fontTools.ttLib.ttFont:Reading 'gasp' table from disk\n",
      "DEBUG:fontTools.ttLib.ttFont:Decompiling 'gasp' table\n",
      "DEBUG:fontTools.ttLib.ttFont:Reading 'FFTM' table from disk\n",
      "DEBUG:fontTools.ttLib.ttFont:Decompiling 'FFTM' table\n",
      "DEBUG:fontTools.subset.timer:Took 0.003s to prune 'name'\n",
      "INFO:fontTools.subset:name pruned\n",
      "DEBUG:fontTools.ttLib.ttFont:Reading 'maxp' table from disk\n",
      "DEBUG:fontTools.ttLib.ttFont:Decompiling 'maxp' table\n",
      "DEBUG:fontTools.subset.timer:Took 0.001s to load 'maxp'\n",
      "DEBUG:fontTools.subset.timer:Took 0.000s to prune 'maxp'\n",
      "INFO:fontTools.subset:maxp pruned\n",
      "DEBUG:fontTools.ttLib.ttFont:Reading 'cmap' table from disk\n",
      "DEBUG:fontTools.ttLib.ttFont:Decompiling 'cmap' table\n",
      "DEBUG:fontTools.ttLib.ttFont:Reading 'post' table from disk\n",
      "DEBUG:fontTools.ttLib.ttFont:Decompiling 'post' table\n",
      "DEBUG:fontTools.subset.timer:Took 0.003s to load 'cmap'\n",
      "DEBUG:fontTools.subset.timer:Took 0.000s to prune 'cmap'\n",
      "INFO:fontTools.subset:cmap pruned\n",
      "INFO:fontTools.subset:fpgm dropped\n",
      "INFO:fontTools.subset:prep dropped\n",
      "INFO:fontTools.subset:cvt  dropped\n",
      "DEBUG:fontTools.subset.timer:Took 0.000s to load 'post'\n",
      "DEBUG:fontTools.subset.timer:Took 0.000s to prune 'post'\n",
      "INFO:fontTools.subset:post pruned\n",
      "DEBUG:fontTools.ttLib.ttFont:Reading 'glyf' table from disk\n",
      "DEBUG:fontTools.ttLib.ttFont:Decompiling 'glyf' table\n",
      "DEBUG:fontTools.ttLib.ttFont:Reading 'loca' table from disk\n",
      "DEBUG:fontTools.ttLib.ttFont:Decompiling 'loca' table\n",
      "DEBUG:fontTools.ttLib.ttFont:Reading 'head' table from disk\n",
      "DEBUG:fontTools.ttLib.ttFont:Decompiling 'head' table\n",
      "DEBUG:fontTools.subset.timer:Took 0.004s to load 'glyf'\n",
      "DEBUG:fontTools.subset.timer:Took 0.000s to prune 'glyf'\n",
      "INFO:fontTools.subset:glyf pruned\n",
      "DEBUG:fontTools.subset.timer:Took 0.000s to close glyph list over 'cmap'\n",
      "INFO:fontTools.subset:Added gid0 to subset\n",
      "INFO:fontTools.subset:Closing glyph list over 'glyf': 60 glyphs before\n",
      "INFO:fontTools.subset:Glyph names: ['.notdef', 'A', 'B', 'C', 'D', 'E', 'F', 'H', 'I', 'L', 'M', 'N', 'O', 'P', 'R', 'S', 'T', 'U', 'V', 'a', 'b', 'beta', 'c', 'comma', 'd', 'e', 'eight', 'f', 'four', 'g', 'greaterequal', 'h', 'i', 'k', 'l', 'm', 'n', 'nine', 'o', 'one', 'p', 'parenleft', 'parenright', 'percent', 'period', 'question', 'quotedbl', 'r', 's', 't', 'three', 'two', 'u', 'uni00A0', 'uni00AD', 'v', 'w', 'x', 'y', 'zero']\n",
      "INFO:fontTools.subset:Glyph IDs:   [0, 3, 5, 8, 11, 12, 15, 16, 17, 19, 20, 21, 22, 23, 27, 28, 34, 36, 37, 38, 39, 40, 41, 43, 44, 47, 48, 49, 50, 51, 53, 54, 55, 56, 57, 68, 69, 70, 71, 72, 73, 74, 75, 76, 78, 79, 80, 81, 82, 83, 85, 86, 87, 88, 89, 90, 91, 92, 383, 580]\n",
      "INFO:fontTools.subset:Closed glyph list over 'glyf': 60 glyphs after\n",
      "INFO:fontTools.subset:Glyph names: ['.notdef', 'A', 'B', 'C', 'D', 'E', 'F', 'H', 'I', 'L', 'M', 'N', 'O', 'P', 'R', 'S', 'T', 'U', 'V', 'a', 'b', 'beta', 'c', 'comma', 'd', 'e', 'eight', 'f', 'four', 'g', 'greaterequal', 'h', 'i', 'k', 'l', 'm', 'n', 'nine', 'o', 'one', 'p', 'parenleft', 'parenright', 'percent', 'period', 'question', 'quotedbl', 'r', 's', 't', 'three', 'two', 'u', 'uni00A0', 'uni00AD', 'v', 'w', 'x', 'y', 'zero']\n",
      "INFO:fontTools.subset:Glyph IDs:   [0, 3, 5, 8, 11, 12, 15, 16, 17, 19, 20, 21, 22, 23, 27, 28, 34, 36, 37, 38, 39, 40, 41, 43, 44, 47, 48, 49, 50, 51, 53, 54, 55, 56, 57, 68, 69, 70, 71, 72, 73, 74, 75, 76, 78, 79, 80, 81, 82, 83, 85, 86, 87, 88, 89, 90, 91, 92, 383, 580]\n",
      "DEBUG:fontTools.subset.timer:Took 0.003s to close glyph list over 'glyf'\n",
      "INFO:fontTools.subset:Retaining 60 glyphs\n",
      "INFO:fontTools.subset:head subsetting not needed\n",
      "INFO:fontTools.subset:hhea subsetting not needed\n",
      "INFO:fontTools.subset:maxp subsetting not needed\n",
      "INFO:fontTools.subset:OS/2 subsetting not needed\n",
      "DEBUG:fontTools.ttLib.ttFont:Reading 'hmtx' table from disk\n",
      "DEBUG:fontTools.ttLib.ttFont:Decompiling 'hmtx' table\n",
      "DEBUG:fontTools.ttLib.ttFont:Reading 'hhea' table from disk\n",
      "DEBUG:fontTools.ttLib.ttFont:Decompiling 'hhea' table\n",
      "DEBUG:fontTools.subset.timer:Took 0.002s to subset 'hmtx'\n",
      "INFO:fontTools.subset:hmtx subsetted\n",
      "DEBUG:fontTools.subset.timer:Took 0.000s to subset 'cmap'\n",
      "INFO:fontTools.subset:cmap subsetted\n",
      "INFO:fontTools.subset:loca subsetting not needed\n",
      "DEBUG:fontTools.subset.timer:Took 0.000s to subset 'post'\n",
      "INFO:fontTools.subset:post subsetted\n",
      "INFO:fontTools.subset:gasp subsetting not needed\n",
      "INFO:fontTools.subset:FFTM NOT subset; don't know how to subset\n",
      "DEBUG:fontTools.ttLib.ttFont:Reading 'GDEF' table from disk\n",
      "DEBUG:fontTools.ttLib.ttFont:Decompiling 'GDEF' table\n",
      "DEBUG:fontTools.subset.timer:Took 0.001s to subset 'GDEF'\n",
      "INFO:fontTools.subset:GDEF subsetted\n",
      "INFO:fontTools.subset:name subsetting not needed\n",
      "DEBUG:fontTools.subset.timer:Took 0.000s to subset 'glyf'\n",
      "INFO:fontTools.subset:glyf subsetted\n",
      "DEBUG:fontTools.subset.timer:Took 0.000s to subset GlyphOrder\n",
      "DEBUG:fontTools.subset.timer:Took 0.000s to prune 'head'\n",
      "INFO:fontTools.subset:head pruned\n",
      "DEBUG:fontTools.ttLib.ttFont:Reading 'OS/2' table from disk\n",
      "DEBUG:fontTools.ttLib.ttFont:Decompiling 'OS/2' table\n",
      "INFO:fontTools.subset:OS/2 Unicode ranges pruned: [0, 1, 7, 38]\n",
      "INFO:fontTools.subset:OS/2 CodePage ranges pruned: [0]\n",
      "DEBUG:fontTools.subset.timer:Took 0.001s to prune 'glyf'\n",
      "INFO:fontTools.subset:glyf pruned\n",
      "DEBUG:fontTools.subset.timer:Took 0.000s to prune 'GDEF'\n",
      "INFO:fontTools.subset:GDEF pruned\n",
      "DEBUG:fontTools.ttLib.ttFont:Reading 'name' table from disk\n",
      "DEBUG:fontTools.ttLib.ttFont:Decompiling 'name' table\n",
      "DEBUG:fontTools.ttLib.ttFont:Reading 'gasp' table from disk\n",
      "DEBUG:fontTools.ttLib.ttFont:Decompiling 'gasp' table\n",
      "DEBUG:fontTools.ttLib.ttFont:Reading 'FFTM' table from disk\n",
      "DEBUG:fontTools.ttLib.ttFont:Decompiling 'FFTM' table\n",
      "DEBUG:fontTools.subset.timer:Took 0.003s to prune 'name'\n",
      "INFO:fontTools.subset:name pruned\n"
     ]
    },
    {
     "name": "stdout",
     "output_type": "stream",
     "text": [
      "✅ PDF Q&A log saved at: /content/QA_Log.pdf\n"
     ]
    },
    {
     "data": {
      "text/html": [
       "<a href='/content/QA_Log.pdf' target='_blank'>/content/QA_Log.pdf</a><br>"
      ],
      "text/plain": [
       "/content/QA_Log.pdf"
      ]
     },
     "metadata": {},
     "output_type": "display_data"
    }
   ],
   "source": [
    "import markdown2\n",
    "from weasyprint import HTML\n",
    "from IPython.display import FileLink, display\n",
    "\n",
    "qa_log_pdf = \"/content/QA_Log.pdf\"\n",
    "html_text = markdown2.markdown_path(qa_log_md)\n",
    "HTML(string=html_text).write_pdf(qa_log_pdf)\n",
    "\n",
    "print(f\"✅ PDF Q&A log saved at: {qa_log_pdf}\")\n",
    "display(FileLink(qa_log_pdf))"
   ]
  },
  {
   "cell_type": "markdown",
   "metadata": {
    "id": "lJA5wc0MQKzP"
   },
   "source": [
    "### YOU CAN DOWNLOAD QUESTION&ANSWER PDF\n",
    "\n",
    "![image.png](data:image/png;base64,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)"
   ]
  },
  {
   "cell_type": "markdown",
   "metadata": {
    "id": "6Fk58rY--Egj"
   },
   "source": [
    "### In this Colab notebook, we built a scientific RAG (Retrieval-Augmented Generation) pipeline that extracts information from PDF/XML-formatted research papers focused on biodiversity, wildlife, phytochemicals, and conservation. We parsed these XMLs into structured Markdown, embedded them using all-mpnet-base-v2, and connected them to a powerful LLM (LLaMA3-70B via Groq). The assistant can now accurately answer questions about scientific names, compounds, study locations, methodologies, and research findings — all grounded in real literature."
   ]
  },
  {
   "cell_type": "markdown",
   "metadata": {
    "id": "L4smNvspANBv"
   },
   "source": [
    "###**References:**\n",
    "- Garg A, Smith-Unna R D and Mu\n",
    "rray-Rust P, (pygetpapers:\n",
    "A   Python   library   for   automated   retrieval   of   scientific\n",
    "literature,Journal  of  Open  Source  Software,7(75)(2022)4451. https://doi.org/10.21105/joss.04451\n",
    "\n",
    "- [groqcloud](https://groq.com/groqcloud/)\n"
   ]
  }
 ],
 "metadata": {
  "accelerator": "GPU",
  "colab": {
   "gpuType": "T4",
   "provenance": []
  },
  "kernelspec": {
   "display_name": "Python 3",
   "name": "python3"
  },
  "language_info": {
   "name": "python"
  }
 },
 "nbformat": 4,
 "nbformat_minor": 0
}
